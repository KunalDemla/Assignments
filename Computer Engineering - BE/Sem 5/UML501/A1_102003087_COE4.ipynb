{
  "nbformat": 4,
  "nbformat_minor": 0,
  "metadata": {
    "colab": {
      "name": "MLass12-8-2022.ipynb",
      "provenance": [],
      "collapsed_sections": []
    },
    "kernelspec": {
      "name": "python3",
      "display_name": "Python 3"
    },
    "language_info": {
      "name": "python"
    }
  },
  "cells": [
    {
      "cell_type": "code",
      "execution_count": null,
      "metadata": {
        "id": "xX_qerLzyvHa"
      },
      "outputs": [],
      "source": [
        "import numpy as np"
      ]
    },
    {
      "cell_type": "markdown",
      "source": [
        "Q1: Questions on Basic NumPy Array "
      ],
      "metadata": {
        "id": "eEhk8vqtJygm"
      }
    },
    {
      "cell_type": "markdown",
      "source": [
        "(a) Reverse the NumPy array: arr = np.array([1, 2, 3, 6, 4, 5])"
      ],
      "metadata": {
        "id": "Naa0Y7RjJ0Rb"
      }
    },
    {
      "cell_type": "code",
      "source": [
        "arr = np.array([1,2,3,6,4,5])\n",
        "print(arr[::-1])\n",
        "print(np.flipud(arr))"
      ],
      "metadata": {
        "colab": {
          "base_uri": "https://localhost:8080/"
        },
        "id": "V7ZqeHPNzNpj",
        "outputId": "7a8d22b9-9792-42eb-89d8-ae23477ff542"
      },
      "execution_count": null,
      "outputs": [
        {
          "output_type": "stream",
          "name": "stdout",
          "text": [
            "[5 4 6 3 2 1]\n",
            "[5 4 6 3 2 1]\n"
          ]
        }
      ]
    },
    {
      "cell_type": "markdown",
      "source": [
        "(b) Flatten the NumPy arr: array1 = np.array([[1, 2, 3], [2, 4, 5], [1, 2, 3]]) using any two \n",
        "NumPy in-built methods"
      ],
      "metadata": {
        "id": "apJ6hMMRKaWF"
      }
    },
    {
      "cell_type": "code",
      "source": [
        "arr1 = np.array([[1,2,3],[2,4,5],[1,2,3]])\n",
        "print(arr1)\n",
        "print(arr1.flatten())\n",
        "print(np.reshape(arr1,(len(arr1)*len(arr1[0]))))"
      ],
      "metadata": {
        "colab": {
          "base_uri": "https://localhost:8080/"
        },
        "id": "YIbHapPs0JqJ",
        "outputId": "130fdd91-bb2c-48b8-ab3c-cb93f916e39a"
      },
      "execution_count": null,
      "outputs": [
        {
          "output_type": "stream",
          "name": "stdout",
          "text": [
            "[[1 2 3]\n",
            " [2 4 5]\n",
            " [1 2 3]]\n",
            "[1 2 3 2 4 5 1 2 3]\n",
            "[1 2 3 2 4 5 1 2 3]\n"
          ]
        }
      ]
    },
    {
      "cell_type": "markdown",
      "source": [
        "(c) Compare the following numpy arrays: \n",
        "arr1 = np.array([[1, 2], [3, 4]])\n",
        "arr2 = np.array([[1, 2], [3, 4]])\n"
      ],
      "metadata": {
        "id": "AaQ3TZXYKpAk"
      }
    },
    {
      "cell_type": "code",
      "source": [
        "arr2 = np.array([[1,2],[3,4]])\n",
        "arr3 = np.array([[1,2],[3,4]])\n",
        "np.array_equal(arr2,arr3)"
      ],
      "metadata": {
        "colab": {
          "base_uri": "https://localhost:8080/"
        },
        "id": "T8J3MbJg0-gI",
        "outputId": "90df8f66-0d69-4af2-9e22-0ed064256058"
      },
      "execution_count": null,
      "outputs": [
        {
          "output_type": "execute_result",
          "data": {
            "text/plain": [
              "True"
            ]
          },
          "metadata": {},
          "execution_count": 5
        }
      ]
    },
    {
      "cell_type": "markdown",
      "source": [
        "(d) Find the most frequent value and their indice(s) in the following arrays: \n",
        "i. x = np.array([1,2,3,4,5,1,2,1,1,1]) \n",
        "ii. y = np.array([1, 1, 1, 2, 3, 4, 2, 4, 3, 3, ])"
      ],
      "metadata": {
        "id": "0iBePyzbKxwk"
      }
    },
    {
      "cell_type": "code",
      "source": [
        "x = np.array([1,2,3,4,5,1,2,1,1,1])\n",
        "y = np.array([1, 1, 1, 2, 3, 4, 2, 4, 3, 3, ])\n",
        "freqInX = np.bincount(x).argmax()\n",
        "indexOfFreqInX = np. where(x == freqInX)\n",
        "print(freqInX,\" \",indexOfFreqInX)\n",
        "freqInY = np.bincount(y).argmax()\n",
        "indexOfFreqInY = np. where(y == freqInY)\n",
        "print(freqInY,\" \",indexOfFreqInY)"
      ],
      "metadata": {
        "colab": {
          "base_uri": "https://localhost:8080/"
        },
        "id": "nVxpRef7LWOF",
        "outputId": "48802812-e94a-4a18-8c07-78ce0654fbeb"
      },
      "execution_count": null,
      "outputs": [
        {
          "output_type": "stream",
          "name": "stdout",
          "text": [
            "1   (array([0, 5, 7, 8, 9]),)\n",
            "1   (array([0, 1, 2]),)\n"
          ]
        }
      ]
    },
    {
      "cell_type": "markdown",
      "source": [
        "(e) For the array gfg = np.matrix('[4, 1, 9; 12, 3, 1; 4, 5, 6]'), find \n",
        "i. Sum of all elements \n",
        "ii. Sum of all elements row-wise \n",
        "iii. Sum of all elements column-wise \n"
      ],
      "metadata": {
        "id": "gnUJi647Mtfo"
      }
    },
    {
      "cell_type": "code",
      "source": [
        "gfg = np.array([[4,1,9],[12,3,1],[4,5,6]])\n",
        "print(np.sum(gfg))\n",
        "print(gfg.sum(axis=0))\n",
        "print(gfg.sum(axis=1))"
      ],
      "metadata": {
        "colab": {
          "base_uri": "https://localhost:8080/"
        },
        "id": "xMemTCgk2A2p",
        "outputId": "47039806-07bc-46dd-a5fd-6f0b94be50d5"
      },
      "execution_count": null,
      "outputs": [
        {
          "output_type": "stream",
          "name": "stdout",
          "text": [
            "45\n",
            "[20  9 16]\n",
            "[14 16 15]\n"
          ]
        }
      ]
    },
    {
      "cell_type": "markdown",
      "source": [
        "(f) For the matrix: n_array = np.array([[55, 25, 15],[30, 44, 2],[11, 45, 77]]), find\n",
        "i. Sum of diagonal elements \n",
        "ii. Eigen values of matrix \n",
        "iii. Eigen vectors of matrix \n",
        "iv. Inverse of matrix \n",
        "v. Determinant of matrix \n"
      ],
      "metadata": {
        "id": "S2yhThEqNIR-"
      }
    },
    {
      "cell_type": "code",
      "source": [
        "n_array = np.array([[55,25,15],[30,44,2],[11,45,77]])\n",
        "print(np.trace(n_array))\n",
        "print(np.linalg.eigvals(n_array))\n",
        "print(np.linalg.eig(n_array))\n",
        "print(np.linalg.inv(n_array))\n",
        "# print(n_array.ndim)\n",
        "print(np.linalg.det(n_array))"
      ],
      "metadata": {
        "colab": {
          "base_uri": "https://localhost:8080/"
        },
        "id": "SWU_9A5k5f6g",
        "outputId": "724816bf-e55c-482e-ee7e-80eeb01ee161"
      },
      "execution_count": null,
      "outputs": [
        {
          "output_type": "stream",
          "name": "stdout",
          "text": [
            "176\n",
            "[98.16835147 28.097044   49.73460452]\n",
            "(array([98.16835147, 28.097044  , 49.73460452]), array([[ 0.4574917 ,  0.34637121, -0.15017693],\n",
            "       [ 0.28447814, -0.72784061, -0.4852124 ],\n",
            "       [ 0.84248058,  0.59184038,  0.8614034 ]]))\n",
            "[[ 0.02404141 -0.00911212 -0.00444671]\n",
            " [-0.01667882  0.02966905  0.0024785 ]\n",
            " [ 0.00631287 -0.01603732  0.01217379]]\n",
            "137180.0000000001\n"
          ]
        }
      ]
    },
    {
      "cell_type": "markdown",
      "source": [
        "(g) Multiply the following matrices and also find covariance between matrices using NumPy: \n",
        "i. p = [[1, 2], [2, 3]]\n",
        "q = [[4, 5], [6, 7]] \n",
        "ii. p = [[1, 2], [2, 3], [4, 5]]\n",
        "q = [[4, 5, 1], [6, 7, 2]]\n"
      ],
      "metadata": {
        "id": "1Lh6v3fKNooZ"
      }
    },
    {
      "cell_type": "code",
      "source": [
        "p = [[1,2],[2,3]]\n",
        "q = [[4,5],[6,7]]\n",
        "print(np.matmul(p,q))\n",
        "print(np.cov(p,q))\n",
        "p = [[1,2],[2,3],[4,5]]\n",
        "q = [[4,5,1],[6,7,2]]\n",
        "print(np.matmul(p,q))\n",
        "# print(np.cov(p,q))"
      ],
      "metadata": {
        "colab": {
          "base_uri": "https://localhost:8080/"
        },
        "id": "8VFzvWRD6Gn2",
        "outputId": "b9cd6672-f1ea-4bd7-e023-49fd45902b91"
      },
      "execution_count": null,
      "outputs": [
        {
          "output_type": "stream",
          "name": "stdout",
          "text": [
            "[[16 19]\n",
            " [26 31]]\n",
            "[[0.5 0.5 0.5 0.5]\n",
            " [0.5 0.5 0.5 0.5]\n",
            " [0.5 0.5 0.5 0.5]\n",
            " [0.5 0.5 0.5 0.5]]\n",
            "[[16 19  5]\n",
            " [26 31  8]\n",
            " [46 55 14]]\n"
          ]
        }
      ]
    },
    {
      "cell_type": "markdown",
      "source": [
        "(h) For the matrices: x = np.array([[2, 3, 4], [3, 2, 9]]); y = np.array([[1, 5, 0], [5, 10, 3]]), \n",
        "find inner, outer and cartesian product?"
      ],
      "metadata": {
        "id": "szGjsJbfN-AG"
      }
    },
    {
      "cell_type": "code",
      "source": [
        "x = np.array([[2,3,4],[3,2,9]])\n",
        "y = np.array([[1,5,0],[5,10,3]])\n",
        "print(np.inner(x,y))\n",
        "print(np.outer(x,y))\n",
        "# print(np.cross(x,y))\n",
        "# result = np.transpose([np.tile(x, len(y)), np.repeat(y, len(x))])\n",
        "# print(result)"
      ],
      "metadata": {
        "colab": {
          "base_uri": "https://localhost:8080/"
        },
        "id": "DhG_XGZl9vAd",
        "outputId": "7ceefd7a-79d9-42e3-fe7b-59cd61ba222e"
      },
      "execution_count": null,
      "outputs": [
        {
          "output_type": "stream",
          "name": "stdout",
          "text": [
            "[[17 52]\n",
            " [13 62]]\n",
            "[[ 2 10  0 10 20  6]\n",
            " [ 3 15  0 15 30  9]\n",
            " [ 4 20  0 20 40 12]\n",
            " [ 3 15  0 15 30  9]\n",
            " [ 2 10  0 10 20  6]\n",
            " [ 9 45  0 45 90 27]]\n",
            "[[-20   4   7]\n",
            " [-84  36  20]]\n"
          ]
        }
      ]
    },
    {
      "cell_type": "markdown",
      "source": [
        "Q2: Based on NumPy Mathematics and Statistics "
      ],
      "metadata": {
        "id": "86WX5LTKRMuV"
      }
    },
    {
      "cell_type": "markdown",
      "source": [
        "(a) For the array: array = np.array([[1, -2, 3],[-4, 5, -6]])\n",
        "i. Find element-wise absolute value \n",
        "ii. Find the 25th, 50th, and 75th percentile of flattened array, for each column, for each \n",
        "row. \n",
        "iii. Mean, Median and Standard Deviation of flattened array, of each column, and \n",
        "each row "
      ],
      "metadata": {
        "id": "u5XhI65rRZ1Q"
      }
    },
    {
      "cell_type": "code",
      "source": [
        "array = np.array([[1,-2,3],[-4,5,-6]])\n",
        "for row in array:\n",
        "  for ele in row:\n",
        "    print(abs(ele))\n",
        "print(np.percentile(array.flatten(),25))\n",
        "print(np.percentile(array,25,axis=0))\n",
        "print(np.percentile(array,25,axis=1))\n",
        "print(np.mean(array.flatten()))\n",
        "print(np.mean(array,axis=0))\n",
        "print(np.mean(array,axis=1))\n",
        "print(np.median(array.flatten()))\n",
        "print(np.median(array,axis=0))\n",
        "print(np.median(array,axis=1))\n",
        "print(np.std(array.flatten()))\n",
        "print(np.std(array,axis=0))\n",
        "print(np.std(array,axis=1))"
      ],
      "metadata": {
        "colab": {
          "base_uri": "https://localhost:8080/"
        },
        "id": "1k015LiN_8vn",
        "outputId": "1ddd1184-8b4e-43cd-eb65-f138391e6403"
      },
      "execution_count": null,
      "outputs": [
        {
          "output_type": "stream",
          "name": "stdout",
          "text": [
            "1\n",
            "2\n",
            "3\n",
            "4\n",
            "5\n",
            "6\n",
            "-3.5\n",
            "[-2.75 -0.25 -3.75]\n",
            "[-0.5 -5. ]\n",
            "-0.5\n",
            "[-1.5  1.5 -1.5]\n",
            "[ 0.66666667 -1.66666667]\n",
            "-0.5\n",
            "[-1.5  1.5 -1.5]\n",
            "[ 1. -4.]\n",
            "3.8622100754188224\n",
            "[2.5 3.5 4.5]\n",
            "[2.05480467 4.78423336]\n"
          ]
        }
      ]
    },
    {
      "cell_type": "markdown",
      "source": [
        "(b) For the array: a = np.array([-1.8, -1.6, -0.5, 0.5,1.6, 1.8, 3.0]). Find floor, ceiling \n",
        "and truncated value, rounded values\n"
      ],
      "metadata": {
        "id": "UWYVy0p_RrIB"
      }
    },
    {
      "cell_type": "code",
      "source": [
        "a = np.array([-1.8,-1.6,-0.5,-0.5,1.6,1.8,3.0])\n",
        "print(np.floor(a))\n",
        "print(np.ceil(a))\n",
        "print(np.trunc(a))\n",
        "print(np.around(a))"
      ],
      "metadata": {
        "colab": {
          "base_uri": "https://localhost:8080/"
        },
        "id": "8cb6QnBwBwkt",
        "outputId": "8a276402-14c7-4aff-a782-a631f29e4b3d"
      },
      "execution_count": null,
      "outputs": [
        {
          "output_type": "stream",
          "name": "stdout",
          "text": [
            "[-2. -2. -1. -1.  1.  1.  3.]\n",
            "[-1. -1. -0. -0.  2.  2.  3.]\n",
            "[-1. -1. -0. -0.  1.  1.  3.]\n",
            "[-2. -2. -0. -0.  2.  2.  3.]\n"
          ]
        }
      ]
    },
    {
      "cell_type": "markdown",
      "source": [
        "**Q3: Based on Searching and Sorting**"
      ],
      "metadata": {
        "id": "vXnyaz2zRzlH"
      }
    },
    {
      "cell_type": "markdown",
      "source": [
        "(a) For the array: array = np.array([10, 52, 62, 16, 16, 54, 453]), find \n",
        "i. Sorted array \n",
        "ii. Indices of sorted array \n",
        "iii. 4 smallest elements \n",
        "iv. 5 largest elements"
      ],
      "metadata": {
        "id": "aI7diFidR-pc"
      }
    },
    {
      "cell_type": "code",
      "source": [
        "array22 = np.array([10, 52, 62, 16, 16, 54, 453])\n",
        "print(np.sort(array22))\n",
        "indices = np.argsort(array22)\n",
        "print(indices)\n",
        "array23 = np.sort(array22)\n",
        "k=4\n",
        "print(k, \"smallest elements of the array\")\n",
        "print(array23[:k])\n",
        "k=5\n",
        "print(k, \"largest elements of the array\")\n",
        "print(array23[-k:])\n"
      ],
      "metadata": {
        "id": "3p6c64WwEVmg",
        "colab": {
          "base_uri": "https://localhost:8080/"
        },
        "outputId": "9fcc483d-3fba-4c76-d7a2-8e9d57100ddd"
      },
      "execution_count": null,
      "outputs": [
        {
          "output_type": "stream",
          "name": "stdout",
          "text": [
            "[ 10  16  16  52  54  62 453]\n",
            "[0 3 4 1 5 2 6]\n",
            "4 smallest elements of the array\n",
            "[10 16 16 52]\n",
            "5 largest elements of the array\n",
            "[ 16  52  54  62 453]\n"
          ]
        }
      ]
    },
    {
      "cell_type": "markdown",
      "source": [
        "(b) For the array: array = np.array([1.0, 1.2, 2.2, 2.0, 3.0, 2.0]), find \n",
        "i. Integer elements only \n",
        "ii. Float elements only \n"
      ],
      "metadata": {
        "id": "rQYwLnCDViLZ"
      }
    },
    {
      "cell_type": "code",
      "source": [
        "array=np.array([1.0,1.2,2.2,2.0,3.0,2.0])\n",
        "print(\"Integer elements ->\")\n",
        "into=array[array==array.astype(int)]\n",
        "print(into)\n",
        "print(\"\")\n",
        "print(\"Float elements ->\")\n",
        "intf=array[array!=array.astype(int)]\n",
        "print(intf)"
      ],
      "metadata": {
        "colab": {
          "base_uri": "https://localhost:8080/"
        },
        "id": "nYcpQVZ8Vl2g",
        "outputId": "3cddbaec-7ae8-4625-c0a9-f0638c4e573f"
      },
      "execution_count": null,
      "outputs": [
        {
          "output_type": "stream",
          "name": "stdout",
          "text": [
            "Integer elements ->\n",
            "[1. 2. 3. 2.]\n",
            "\n",
            "Float elements ->\n",
            "[1.2 2.2]\n"
          ]
        }
      ]
    },
    {
      "cell_type": "markdown",
      "source": [
        "Q4: \n",
        "(a) Write a function named img_to_array(path) that reads an image from a specified path and \n",
        "save it as text file on local machine? (Note: use separate cases for RGB and Grey Scale \n",
        "images) \n",
        "(b) Load the saved file into jupyter notebook?"
      ],
      "metadata": {
        "id": "PcELvgEM9Wnz"
      }
    },
    {
      "cell_type": "code",
      "source": [
        "import numpy as np\n",
        "from PIL import Image\n",
        "\n",
        "def img_to_array_RGB(path):\n",
        "  img = Image.open(path)\n",
        "  numpydata = np.array(img)\n",
        "  np.savetxt(\"a.txt\",numpydata.reshape((3,-1)), fmt=\"%s\")\n",
        "\n",
        "def img_to_array_GS(path):\n",
        "  img = Image.open(path)\n",
        "  numpydata = np.array(img)\n",
        "  np.savetxt(\"b.txt\",numpydata.reshape((3,-1)), fmt=\"%s\")\n",
        "\n",
        "a = input(\"Enter the path of the RGB image\")\n",
        "b = input(\"Enter the path of the GrayScale image\")\n",
        "img_to_array_RGB(a)\n",
        "img_to_array_GS(b)\n",
        "print(np.loadtxt('a.txt'))\n",
        "print(np.loadtxt('b.txt'))"
      ],
      "metadata": {
        "colab": {
          "base_uri": "https://localhost:8080/"
        },
        "id": "_XeYCCjo9JbW",
        "outputId": "deb11c5f-1188-42c8-8c47-7494072965f6"
      },
      "execution_count": 4,
      "outputs": [
        {
          "output_type": "stream",
          "name": "stdout",
          "text": [
            "Enter the path of the RGB image/content/RGB.jpg\n",
            "Enter the path of the GrayScale image/content/GRAY.jpg\n",
            "[[  3.   0.  69. ...  32. 246. 235.]\n",
            " [ 47. 255. 247. ...   4. 197.  26.]\n",
            " [  1. 204.  33. ...   0.   0.   2.]]\n",
            "[[ 89.  89.  89. ...  96.  96.  96.]\n",
            " [118. 118. 118. ... 135. 135. 135.]\n",
            " [149. 149. 149. ... 102. 102. 102.]]\n"
          ]
        }
      ]
    }
  ]
}